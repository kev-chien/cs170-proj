{
 "cells": [
  {
   "cell_type": "code",
   "execution_count": 3,
   "metadata": {},
   "outputs": [],
   "source": [
    "import matplotlib\n",
    "matplotlib.use('Agg')\n",
    "from datascience import Table\n",
    "%matplotlib inline\n",
    "import matplotlib.pyplot as plt\n",
    "import numpy as np\n",
    "plt.style.use('fivethirtyeight')\n",
    "\n",
    "from datascience.predicates import are\n",
    "import subprocess"
   ]
  },
  {
   "cell_type": "code",
   "execution_count": 5,
   "metadata": {},
   "outputs": [
    {
     "ename": "FileNotFoundError",
     "evalue": "File b'costs/outputs-dijkstra-degree-greedy.csv' does not exist",
     "output_type": "error",
     "traceback": [
      "\u001b[0;31m---------------------------------------------------------------------------\u001b[0m",
      "\u001b[0;31mFileNotFoundError\u001b[0m                         Traceback (most recent call last)",
      "\u001b[0;32m<ipython-input-5-53a332e8b8eb>\u001b[0m in \u001b[0;36m<module>\u001b[0;34m()\u001b[0m\n\u001b[0;32m----> 1\u001b[0;31m \u001b[0mcosts_1\u001b[0m \u001b[0;34m=\u001b[0m \u001b[0mTable\u001b[0m\u001b[0;34m.\u001b[0m\u001b[0mread_table\u001b[0m\u001b[0;34m(\u001b[0m\u001b[0;34m'costs/outputs-dijkstra-degree-greedy.csv'\u001b[0m\u001b[0;34m)\u001b[0m\u001b[0;34m\u001b[0m\u001b[0m\n\u001b[0m\u001b[1;32m      2\u001b[0m \u001b[0mcosts_2\u001b[0m \u001b[0;34m=\u001b[0m \u001b[0mTable\u001b[0m\u001b[0;34m.\u001b[0m\u001b[0mread_table\u001b[0m\u001b[0;34m(\u001b[0m\u001b[0;34m'costs/outputs.csv'\u001b[0m\u001b[0;34m)\u001b[0m\u001b[0;34m\u001b[0m\u001b[0m\n",
      "\u001b[0;32m/usr/local/lib/python3.6/site-packages/datascience/tables.py\u001b[0m in \u001b[0;36mread_table\u001b[0;34m(cls, filepath_or_buffer, *args, **vargs)\u001b[0m\n\u001b[1;32m    130\u001b[0m         \u001b[0;32mexcept\u001b[0m \u001b[0mAttributeError\u001b[0m\u001b[0;34m:\u001b[0m\u001b[0;34m\u001b[0m\u001b[0m\n\u001b[1;32m    131\u001b[0m             \u001b[0;32mpass\u001b[0m\u001b[0;34m\u001b[0m\u001b[0m\n\u001b[0;32m--> 132\u001b[0;31m         \u001b[0mdf\u001b[0m \u001b[0;34m=\u001b[0m \u001b[0mpandas\u001b[0m\u001b[0;34m.\u001b[0m\u001b[0mread_table\u001b[0m\u001b[0;34m(\u001b[0m\u001b[0mfilepath_or_buffer\u001b[0m\u001b[0;34m,\u001b[0m \u001b[0;34m*\u001b[0m\u001b[0margs\u001b[0m\u001b[0;34m,\u001b[0m \u001b[0;34m**\u001b[0m\u001b[0mvargs\u001b[0m\u001b[0;34m)\u001b[0m\u001b[0;34m\u001b[0m\u001b[0m\n\u001b[0m\u001b[1;32m    133\u001b[0m         \u001b[0;32mreturn\u001b[0m \u001b[0mcls\u001b[0m\u001b[0;34m.\u001b[0m\u001b[0mfrom_df\u001b[0m\u001b[0;34m(\u001b[0m\u001b[0mdf\u001b[0m\u001b[0;34m)\u001b[0m\u001b[0;34m\u001b[0m\u001b[0m\n\u001b[1;32m    134\u001b[0m \u001b[0;34m\u001b[0m\u001b[0m\n",
      "\u001b[0;32m/usr/local/lib/python3.6/site-packages/pandas/io/parsers.py\u001b[0m in \u001b[0;36mparser_f\u001b[0;34m(filepath_or_buffer, sep, delimiter, header, names, index_col, usecols, squeeze, prefix, mangle_dupe_cols, dtype, engine, converters, true_values, false_values, skipinitialspace, skiprows, nrows, na_values, keep_default_na, na_filter, verbose, skip_blank_lines, parse_dates, infer_datetime_format, keep_date_col, date_parser, dayfirst, iterator, chunksize, compression, thousands, decimal, lineterminator, quotechar, quoting, escapechar, comment, encoding, dialect, tupleize_cols, error_bad_lines, warn_bad_lines, skipfooter, skip_footer, doublequote, delim_whitespace, as_recarray, compact_ints, use_unsigned, low_memory, buffer_lines, memory_map, float_precision)\u001b[0m\n\u001b[1;32m    707\u001b[0m                     skip_blank_lines=skip_blank_lines)\n\u001b[1;32m    708\u001b[0m \u001b[0;34m\u001b[0m\u001b[0m\n\u001b[0;32m--> 709\u001b[0;31m         \u001b[0;32mreturn\u001b[0m \u001b[0m_read\u001b[0m\u001b[0;34m(\u001b[0m\u001b[0mfilepath_or_buffer\u001b[0m\u001b[0;34m,\u001b[0m \u001b[0mkwds\u001b[0m\u001b[0;34m)\u001b[0m\u001b[0;34m\u001b[0m\u001b[0m\n\u001b[0m\u001b[1;32m    710\u001b[0m \u001b[0;34m\u001b[0m\u001b[0m\n\u001b[1;32m    711\u001b[0m     \u001b[0mparser_f\u001b[0m\u001b[0;34m.\u001b[0m\u001b[0m__name__\u001b[0m \u001b[0;34m=\u001b[0m \u001b[0mname\u001b[0m\u001b[0;34m\u001b[0m\u001b[0m\n",
      "\u001b[0;32m/usr/local/lib/python3.6/site-packages/pandas/io/parsers.py\u001b[0m in \u001b[0;36m_read\u001b[0;34m(filepath_or_buffer, kwds)\u001b[0m\n\u001b[1;32m    447\u001b[0m \u001b[0;34m\u001b[0m\u001b[0m\n\u001b[1;32m    448\u001b[0m     \u001b[0;31m# Create the parser.\u001b[0m\u001b[0;34m\u001b[0m\u001b[0;34m\u001b[0m\u001b[0m\n\u001b[0;32m--> 449\u001b[0;31m     \u001b[0mparser\u001b[0m \u001b[0;34m=\u001b[0m \u001b[0mTextFileReader\u001b[0m\u001b[0;34m(\u001b[0m\u001b[0mfilepath_or_buffer\u001b[0m\u001b[0;34m,\u001b[0m \u001b[0;34m**\u001b[0m\u001b[0mkwds\u001b[0m\u001b[0;34m)\u001b[0m\u001b[0;34m\u001b[0m\u001b[0m\n\u001b[0m\u001b[1;32m    450\u001b[0m \u001b[0;34m\u001b[0m\u001b[0m\n\u001b[1;32m    451\u001b[0m     \u001b[0;32mif\u001b[0m \u001b[0mchunksize\u001b[0m \u001b[0;32mor\u001b[0m \u001b[0miterator\u001b[0m\u001b[0;34m:\u001b[0m\u001b[0;34m\u001b[0m\u001b[0m\n",
      "\u001b[0;32m/usr/local/lib/python3.6/site-packages/pandas/io/parsers.py\u001b[0m in \u001b[0;36m__init__\u001b[0;34m(self, f, engine, **kwds)\u001b[0m\n\u001b[1;32m    816\u001b[0m             \u001b[0mself\u001b[0m\u001b[0;34m.\u001b[0m\u001b[0moptions\u001b[0m\u001b[0;34m[\u001b[0m\u001b[0;34m'has_index_names'\u001b[0m\u001b[0;34m]\u001b[0m \u001b[0;34m=\u001b[0m \u001b[0mkwds\u001b[0m\u001b[0;34m[\u001b[0m\u001b[0;34m'has_index_names'\u001b[0m\u001b[0;34m]\u001b[0m\u001b[0;34m\u001b[0m\u001b[0m\n\u001b[1;32m    817\u001b[0m \u001b[0;34m\u001b[0m\u001b[0m\n\u001b[0;32m--> 818\u001b[0;31m         \u001b[0mself\u001b[0m\u001b[0;34m.\u001b[0m\u001b[0m_make_engine\u001b[0m\u001b[0;34m(\u001b[0m\u001b[0mself\u001b[0m\u001b[0;34m.\u001b[0m\u001b[0mengine\u001b[0m\u001b[0;34m)\u001b[0m\u001b[0;34m\u001b[0m\u001b[0m\n\u001b[0m\u001b[1;32m    819\u001b[0m \u001b[0;34m\u001b[0m\u001b[0m\n\u001b[1;32m    820\u001b[0m     \u001b[0;32mdef\u001b[0m \u001b[0mclose\u001b[0m\u001b[0;34m(\u001b[0m\u001b[0mself\u001b[0m\u001b[0;34m)\u001b[0m\u001b[0;34m:\u001b[0m\u001b[0;34m\u001b[0m\u001b[0m\n",
      "\u001b[0;32m/usr/local/lib/python3.6/site-packages/pandas/io/parsers.py\u001b[0m in \u001b[0;36m_make_engine\u001b[0;34m(self, engine)\u001b[0m\n\u001b[1;32m   1047\u001b[0m     \u001b[0;32mdef\u001b[0m \u001b[0m_make_engine\u001b[0m\u001b[0;34m(\u001b[0m\u001b[0mself\u001b[0m\u001b[0;34m,\u001b[0m \u001b[0mengine\u001b[0m\u001b[0;34m=\u001b[0m\u001b[0;34m'c'\u001b[0m\u001b[0;34m)\u001b[0m\u001b[0;34m:\u001b[0m\u001b[0;34m\u001b[0m\u001b[0m\n\u001b[1;32m   1048\u001b[0m         \u001b[0;32mif\u001b[0m \u001b[0mengine\u001b[0m \u001b[0;34m==\u001b[0m \u001b[0;34m'c'\u001b[0m\u001b[0;34m:\u001b[0m\u001b[0;34m\u001b[0m\u001b[0m\n\u001b[0;32m-> 1049\u001b[0;31m             \u001b[0mself\u001b[0m\u001b[0;34m.\u001b[0m\u001b[0m_engine\u001b[0m \u001b[0;34m=\u001b[0m \u001b[0mCParserWrapper\u001b[0m\u001b[0;34m(\u001b[0m\u001b[0mself\u001b[0m\u001b[0;34m.\u001b[0m\u001b[0mf\u001b[0m\u001b[0;34m,\u001b[0m \u001b[0;34m**\u001b[0m\u001b[0mself\u001b[0m\u001b[0;34m.\u001b[0m\u001b[0moptions\u001b[0m\u001b[0;34m)\u001b[0m\u001b[0;34m\u001b[0m\u001b[0m\n\u001b[0m\u001b[1;32m   1050\u001b[0m         \u001b[0;32melse\u001b[0m\u001b[0;34m:\u001b[0m\u001b[0;34m\u001b[0m\u001b[0m\n\u001b[1;32m   1051\u001b[0m             \u001b[0;32mif\u001b[0m \u001b[0mengine\u001b[0m \u001b[0;34m==\u001b[0m \u001b[0;34m'python'\u001b[0m\u001b[0;34m:\u001b[0m\u001b[0;34m\u001b[0m\u001b[0m\n",
      "\u001b[0;32m/usr/local/lib/python3.6/site-packages/pandas/io/parsers.py\u001b[0m in \u001b[0;36m__init__\u001b[0;34m(self, src, **kwds)\u001b[0m\n\u001b[1;32m   1693\u001b[0m         \u001b[0mkwds\u001b[0m\u001b[0;34m[\u001b[0m\u001b[0;34m'allow_leading_cols'\u001b[0m\u001b[0;34m]\u001b[0m \u001b[0;34m=\u001b[0m \u001b[0mself\u001b[0m\u001b[0;34m.\u001b[0m\u001b[0mindex_col\u001b[0m \u001b[0;32mis\u001b[0m \u001b[0;32mnot\u001b[0m \u001b[0;32mFalse\u001b[0m\u001b[0;34m\u001b[0m\u001b[0m\n\u001b[1;32m   1694\u001b[0m \u001b[0;34m\u001b[0m\u001b[0m\n\u001b[0;32m-> 1695\u001b[0;31m         \u001b[0mself\u001b[0m\u001b[0;34m.\u001b[0m\u001b[0m_reader\u001b[0m \u001b[0;34m=\u001b[0m \u001b[0mparsers\u001b[0m\u001b[0;34m.\u001b[0m\u001b[0mTextReader\u001b[0m\u001b[0;34m(\u001b[0m\u001b[0msrc\u001b[0m\u001b[0;34m,\u001b[0m \u001b[0;34m**\u001b[0m\u001b[0mkwds\u001b[0m\u001b[0;34m)\u001b[0m\u001b[0;34m\u001b[0m\u001b[0m\n\u001b[0m\u001b[1;32m   1696\u001b[0m \u001b[0;34m\u001b[0m\u001b[0m\n\u001b[1;32m   1697\u001b[0m         \u001b[0;31m# XXX\u001b[0m\u001b[0;34m\u001b[0m\u001b[0;34m\u001b[0m\u001b[0m\n",
      "\u001b[0;32mpandas/_libs/parsers.pyx\u001b[0m in \u001b[0;36mpandas._libs.parsers.TextReader.__cinit__\u001b[0;34m()\u001b[0m\n",
      "\u001b[0;32mpandas/_libs/parsers.pyx\u001b[0m in \u001b[0;36mpandas._libs.parsers.TextReader._setup_parser_source\u001b[0;34m()\u001b[0m\n",
      "\u001b[0;31mFileNotFoundError\u001b[0m: File b'costs/outputs-dijkstra-degree-greedy.csv' does not exist"
     ]
    }
   ],
   "source": [
    "costs_1 = Table.read_table('costs/outputs-dijkstra-degree-greedy.csv')\n",
    "costs_2 = Table.read_table('costs/outputs.csv')"
   ]
  },
  {
   "cell_type": "code",
   "execution_count": 2,
   "metadata": {},
   "outputs": [
    {
     "ename": "NameError",
     "evalue": "name 'costs_1' is not defined",
     "output_type": "error",
     "traceback": [
      "\u001b[0;31m---------------------------------------------------------------------------\u001b[0m",
      "\u001b[0;31mNameError\u001b[0m                                 Traceback (most recent call last)",
      "\u001b[0;32m<ipython-input-2-599905bf6c2b>\u001b[0m in \u001b[0;36m<module>\u001b[0;34m()\u001b[0m\n\u001b[0;32m----> 1\u001b[0;31m \u001b[0mcosts_1\u001b[0m\u001b[0;34m\u001b[0m\u001b[0m\n\u001b[0m",
      "\u001b[0;31mNameError\u001b[0m: name 'costs_1' is not defined"
     ]
    }
   ],
   "source": [
    "costs_1"
   ]
  },
  {
   "cell_type": "code",
   "execution_count": 4,
   "metadata": {},
   "outputs": [
    {
     "data": {
      "text/html": [
       "<table border=\"1\" class=\"dataframe\">\n",
       "    <thead>\n",
       "        <tr>\n",
       "            <th>output_dir</th> <th>output_filename</th> <th>travel_cost</th> <th>conquer_cost</th> <th>cost</th>\n",
       "        </tr>\n",
       "    </thead>\n",
       "    <tbody>\n",
       "        <tr>\n",
       "            <td>outputs-dijsktra-greedy</td> <td>0.out          </td> <td>66         </td> <td>41          </td> <td>107        </td>\n",
       "        </tr>\n",
       "    </tbody>\n",
       "        <tr>\n",
       "            <td>outputs-dijsktra-greedy</td> <td>1.out          </td> <td>194        </td> <td>52          </td> <td>246        </td>\n",
       "        </tr>\n",
       "    </tbody>\n",
       "        <tr>\n",
       "            <td>outputs-dijsktra-greedy</td> <td>10.out         </td> <td>305.62     </td> <td>351.85      </td> <td>657.47     </td>\n",
       "        </tr>\n",
       "    </tbody>\n",
       "        <tr>\n",
       "            <td>outputs-dijsktra-greedy</td> <td>100.out        </td> <td>403864     </td> <td>27704       </td> <td>431568     </td>\n",
       "        </tr>\n",
       "    </tbody>\n",
       "        <tr>\n",
       "            <td>outputs-dijsktra-greedy</td> <td>101.out        </td> <td>324        </td> <td>1           </td> <td>325        </td>\n",
       "        </tr>\n",
       "    </tbody>\n",
       "        <tr>\n",
       "            <td>outputs-dijsktra-greedy</td> <td>105.out        </td> <td>2.41584e+07</td> <td>1.48975e+07 </td> <td>3.90559e+07</td>\n",
       "        </tr>\n",
       "    </tbody>\n",
       "        <tr>\n",
       "            <td>outputs-dijsktra-greedy</td> <td>106.out        </td> <td>4.46618e+07</td> <td>2.97175e+07 </td> <td>7.43793e+07</td>\n",
       "        </tr>\n",
       "    </tbody>\n",
       "        <tr>\n",
       "            <td>outputs-dijsktra-greedy</td> <td>107.out        </td> <td>1.23333e+07</td> <td>6.44751e+06 </td> <td>1.87808e+07</td>\n",
       "        </tr>\n",
       "    </tbody>\n",
       "        <tr>\n",
       "            <td>outputs-dijsktra-greedy</td> <td>108.out        </td> <td>13308.1    </td> <td>3376.05     </td> <td>16684.2    </td>\n",
       "        </tr>\n",
       "    </tbody>\n",
       "        <tr>\n",
       "            <td>outputs-dijsktra-greedy</td> <td>109.out        </td> <td>10799.8    </td> <td>1880.66     </td> <td>12680.5    </td>\n",
       "        </tr>\n",
       "    </tbody>\n",
       "</table>\n",
       "<p>... (694 rows omitted)</p"
      ],
      "text/plain": [
       "output_dir              | output_filename | travel_cost | conquer_cost | cost\n",
       "outputs-dijsktra-greedy | 0.out           | 66          | 41           | 107\n",
       "outputs-dijsktra-greedy | 1.out           | 194         | 52           | 246\n",
       "outputs-dijsktra-greedy | 10.out          | 305.62      | 351.85       | 657.47\n",
       "outputs-dijsktra-greedy | 100.out         | 403864      | 27704        | 431568\n",
       "outputs-dijsktra-greedy | 101.out         | 324         | 1            | 325\n",
       "outputs-dijsktra-greedy | 105.out         | 2.41584e+07 | 1.48975e+07  | 3.90559e+07\n",
       "outputs-dijsktra-greedy | 106.out         | 4.46618e+07 | 2.97175e+07  | 7.43793e+07\n",
       "outputs-dijsktra-greedy | 107.out         | 1.23333e+07 | 6.44751e+06  | 1.87808e+07\n",
       "outputs-dijsktra-greedy | 108.out         | 13308.1     | 3376.05      | 16684.2\n",
       "outputs-dijsktra-greedy | 109.out         | 10799.8     | 1880.66      | 12680.5\n",
       "... (694 rows omitted)"
      ]
     },
     "execution_count": 4,
     "metadata": {},
     "output_type": "execute_result"
    }
   ],
   "source": [
    "costs_2"
   ]
  },
  {
   "cell_type": "code",
   "execution_count": 10,
   "metadata": {},
   "outputs": [
    {
     "data": {
      "text/html": [
       "<table border=\"1\" class=\"dataframe\">\n",
       "    <thead>\n",
       "        <tr>\n",
       "            <th>output_filename</th> <th>output_dir</th> <th>travel_cost</th> <th>conquer_cost</th> <th>cost</th> <th>output_dir_2</th> <th>travel_cost_2</th> <th>conquer_cost_2</th> <th>cost_2</th>\n",
       "        </tr>\n",
       "    </thead>\n",
       "    <tbody>\n",
       "        <tr>\n",
       "            <td>117.out        </td> <td>outputs-dijkstra-degree-greedy</td> <td>375        </td> <td>602         </td> <td>977    </td> <td>outputs-dijsktra-greedy</td> <td>376          </td> <td>520           </td> <td>896    </td>\n",
       "        </tr>\n",
       "    </tbody>\n",
       "        <tr>\n",
       "            <td>118.out        </td> <td>outputs-dijkstra-degree-greedy</td> <td>775        </td> <td>1206        </td> <td>1981   </td> <td>outputs-dijsktra-greedy</td> <td>776          </td> <td>1040          </td> <td>1816   </td>\n",
       "        </tr>\n",
       "    </tbody>\n",
       "        <tr>\n",
       "            <td>119.out        </td> <td>outputs-dijkstra-degree-greedy</td> <td>176        </td> <td>300         </td> <td>476    </td> <td>outputs-dijsktra-greedy</td> <td>176          </td> <td>260           </td> <td>436    </td>\n",
       "        </tr>\n",
       "    </tbody>\n",
       "        <tr>\n",
       "            <td>121.out        </td> <td>outputs-dijkstra-degree-greedy</td> <td>63248      </td> <td>1845        </td> <td>65093  </td> <td>outputs-dijsktra-greedy</td> <td>63300        </td> <td>1171          </td> <td>64471  </td>\n",
       "        </tr>\n",
       "    </tbody>\n",
       "        <tr>\n",
       "            <td>122.out        </td> <td>outputs-dijkstra-degree-greedy</td> <td>786        </td> <td>516         </td> <td>1302   </td> <td>outputs-dijsktra-greedy</td> <td>810          </td> <td>452           </td> <td>1262   </td>\n",
       "        </tr>\n",
       "    </tbody>\n",
       "        <tr>\n",
       "            <td>126.out        </td> <td>outputs-dijkstra-degree-greedy</td> <td>274        </td> <td>720         </td> <td>994    </td> <td>outputs-dijsktra-greedy</td> <td>306          </td> <td>600           </td> <td>906    </td>\n",
       "        </tr>\n",
       "    </tbody>\n",
       "        <tr>\n",
       "            <td>145.out        </td> <td>outputs-dijkstra-degree-greedy</td> <td>992.26     </td> <td>1048        </td> <td>2040.26</td> <td>outputs-dijsktra-greedy</td> <td>1141.12      </td> <td>837           </td> <td>1978.12</td>\n",
       "        </tr>\n",
       "    </tbody>\n",
       "        <tr>\n",
       "            <td>146.out        </td> <td>outputs-dijkstra-degree-greedy</td> <td>133        </td> <td>91          </td> <td>224    </td> <td>outputs-dijsktra-greedy</td> <td>149          </td> <td>65            </td> <td>214    </td>\n",
       "        </tr>\n",
       "    </tbody>\n",
       "        <tr>\n",
       "            <td>157.out        </td> <td>outputs-dijkstra-degree-greedy</td> <td>32         </td> <td>189064      </td> <td>189096 </td> <td>outputs-dijsktra-greedy</td> <td>30           </td> <td>173498        </td> <td>173528 </td>\n",
       "        </tr>\n",
       "    </tbody>\n",
       "        <tr>\n",
       "            <td>159.out        </td> <td>outputs-dijkstra-degree-greedy</td> <td>760        </td> <td>11724       </td> <td>12484  </td> <td>outputs-dijsktra-greedy</td> <td>874          </td> <td>10176         </td> <td>11050  </td>\n",
       "        </tr>\n",
       "    </tbody>\n",
       "</table>\n",
       "<p>... (159 rows omitted)</p"
      ],
      "text/plain": [
       "output_filename | output_dir                     | travel_cost | conquer_cost | cost    | output_dir_2            | travel_cost_2 | conquer_cost_2 | cost_2\n",
       "117.out         | outputs-dijkstra-degree-greedy | 375         | 602          | 977     | outputs-dijsktra-greedy | 376           | 520            | 896\n",
       "118.out         | outputs-dijkstra-degree-greedy | 775         | 1206         | 1981    | outputs-dijsktra-greedy | 776           | 1040           | 1816\n",
       "119.out         | outputs-dijkstra-degree-greedy | 176         | 300          | 476     | outputs-dijsktra-greedy | 176           | 260            | 436\n",
       "121.out         | outputs-dijkstra-degree-greedy | 63248       | 1845         | 65093   | outputs-dijsktra-greedy | 63300         | 1171           | 64471\n",
       "122.out         | outputs-dijkstra-degree-greedy | 786         | 516          | 1302    | outputs-dijsktra-greedy | 810           | 452            | 1262\n",
       "126.out         | outputs-dijkstra-degree-greedy | 274         | 720          | 994     | outputs-dijsktra-greedy | 306           | 600            | 906\n",
       "145.out         | outputs-dijkstra-degree-greedy | 992.26      | 1048         | 2040.26 | outputs-dijsktra-greedy | 1141.12       | 837            | 1978.12\n",
       "146.out         | outputs-dijkstra-degree-greedy | 133         | 91           | 224     | outputs-dijsktra-greedy | 149           | 65             | 214\n",
       "157.out         | outputs-dijkstra-degree-greedy | 32          | 189064       | 189096  | outputs-dijsktra-greedy | 30            | 173498         | 173528\n",
       "159.out         | outputs-dijkstra-degree-greedy | 760         | 11724        | 12484   | outputs-dijsktra-greedy | 874           | 10176          | 11050\n",
       "... (159 rows omitted)"
      ]
     },
     "execution_count": 10,
     "metadata": {},
     "output_type": "execute_result"
    }
   ],
   "source": [
    "d = costs_1.join('output_filename', costs_2)\n",
    "d.where(\"cost\", are.above, \"cost_2\")\n",
    "# d"
   ]
  },
  {
   "cell_type": "code",
   "execution_count": 6,
   "metadata": {},
   "outputs": [
    {
     "data": {
      "text/html": [
       "<table border=\"1\" class=\"dataframe\">\n",
       "    <thead>\n",
       "        <tr>\n",
       "            <th>output_dir</th> <th>output_filename</th> <th>travel_cost</th> <th>conquer_cost</th> <th>cost</th>\n",
       "        </tr>\n",
       "    </thead>\n",
       "    <tbody>\n",
       "        <tr>\n",
       "            <td>outputs-dijkstra-degree-greedy</td> <td>0.out          </td> <td>28         </td> <td>40          </td> <td>68    </td>\n",
       "        </tr>\n",
       "    </tbody>\n",
       "        <tr>\n",
       "            <td>outputs-dijsktra-greedy       </td> <td>0.out          </td> <td>66         </td> <td>41          </td> <td>107   </td>\n",
       "        </tr>\n",
       "    </tbody>\n",
       "        <tr>\n",
       "            <td>outputs-dijkstra-degree-greedy</td> <td>1.out          </td> <td>194        </td> <td>52          </td> <td>246   </td>\n",
       "        </tr>\n",
       "    </tbody>\n",
       "        <tr>\n",
       "            <td>outputs-dijsktra-greedy       </td> <td>1.out          </td> <td>194        </td> <td>52          </td> <td>246   </td>\n",
       "        </tr>\n",
       "    </tbody>\n",
       "        <tr>\n",
       "            <td>outputs-dijkstra-degree-greedy</td> <td>10.out         </td> <td>250.8      </td> <td>281.31      </td> <td>532.11</td>\n",
       "        </tr>\n",
       "    </tbody>\n",
       "        <tr>\n",
       "            <td>outputs-dijsktra-greedy       </td> <td>10.out         </td> <td>305.62     </td> <td>351.85      </td> <td>657.47</td>\n",
       "        </tr>\n",
       "    </tbody>\n",
       "        <tr>\n",
       "            <td>outputs-dijkstra-degree-greedy</td> <td>100.out        </td> <td>403864     </td> <td>27704       </td> <td>431568</td>\n",
       "        </tr>\n",
       "    </tbody>\n",
       "        <tr>\n",
       "            <td>outputs-dijsktra-greedy       </td> <td>100.out        </td> <td>403864     </td> <td>27704       </td> <td>431568</td>\n",
       "        </tr>\n",
       "    </tbody>\n",
       "        <tr>\n",
       "            <td>outputs-dijkstra-degree-greedy</td> <td>101.out        </td> <td>324        </td> <td>1           </td> <td>325   </td>\n",
       "        </tr>\n",
       "    </tbody>\n",
       "        <tr>\n",
       "            <td>outputs-dijsktra-greedy       </td> <td>101.out        </td> <td>324        </td> <td>1           </td> <td>325   </td>\n",
       "        </tr>\n",
       "    </tbody>\n",
       "</table>\n",
       "<p>... (1425 rows omitted)</p"
      ],
      "text/plain": [
       "output_dir                     | output_filename | travel_cost | conquer_cost | cost\n",
       "outputs-dijkstra-degree-greedy | 0.out           | 28          | 40           | 68\n",
       "outputs-dijsktra-greedy        | 0.out           | 66          | 41           | 107\n",
       "outputs-dijkstra-degree-greedy | 1.out           | 194         | 52           | 246\n",
       "outputs-dijsktra-greedy        | 1.out           | 194         | 52           | 246\n",
       "outputs-dijkstra-degree-greedy | 10.out          | 250.8       | 281.31       | 532.11\n",
       "outputs-dijsktra-greedy        | 10.out          | 305.62      | 351.85       | 657.47\n",
       "outputs-dijkstra-degree-greedy | 100.out         | 403864      | 27704        | 431568\n",
       "outputs-dijsktra-greedy        | 100.out         | 403864      | 27704        | 431568\n",
       "outputs-dijkstra-degree-greedy | 101.out         | 324         | 1            | 325\n",
       "outputs-dijsktra-greedy        | 101.out         | 324         | 1            | 325\n",
       "... (1425 rows omitted)"
      ]
     },
     "execution_count": 6,
     "metadata": {},
     "output_type": "execute_result"
    }
   ],
   "source": [
    "appended = costs_1.copy().append(costs_2).sort('output_filename')\n",
    "appended"
   ]
  },
  {
   "cell_type": "code",
   "execution_count": 7,
   "metadata": {},
   "outputs": [
    {
     "data": {
      "text/html": [
       "<table border=\"1\" class=\"dataframe\">\n",
       "    <thead>\n",
       "        <tr>\n",
       "            <th>output_filename</th> <th>cost min</th>\n",
       "        </tr>\n",
       "    </thead>\n",
       "    <tbody>\n",
       "        <tr>\n",
       "            <td>0.out          </td> <td>68         </td>\n",
       "        </tr>\n",
       "    </tbody>\n",
       "        <tr>\n",
       "            <td>1.out          </td> <td>246        </td>\n",
       "        </tr>\n",
       "    </tbody>\n",
       "        <tr>\n",
       "            <td>10.out         </td> <td>532.11     </td>\n",
       "        </tr>\n",
       "    </tbody>\n",
       "        <tr>\n",
       "            <td>100.out        </td> <td>431568     </td>\n",
       "        </tr>\n",
       "    </tbody>\n",
       "        <tr>\n",
       "            <td>101.out        </td> <td>325        </td>\n",
       "        </tr>\n",
       "    </tbody>\n",
       "        <tr>\n",
       "            <td>105.out        </td> <td>3.58966e+07</td>\n",
       "        </tr>\n",
       "    </tbody>\n",
       "        <tr>\n",
       "            <td>106.out        </td> <td>7.11494e+07</td>\n",
       "        </tr>\n",
       "    </tbody>\n",
       "        <tr>\n",
       "            <td>107.out        </td> <td>1.59049e+07</td>\n",
       "        </tr>\n",
       "    </tbody>\n",
       "        <tr>\n",
       "            <td>108.out        </td> <td>12658.1    </td>\n",
       "        </tr>\n",
       "    </tbody>\n",
       "        <tr>\n",
       "            <td>109.out        </td> <td>11609.3    </td>\n",
       "        </tr>\n",
       "    </tbody>\n",
       "</table>\n",
       "<p>... (721 rows omitted)</p"
      ],
      "text/plain": [
       "output_filename | cost min\n",
       "0.out           | 68\n",
       "1.out           | 246\n",
       "10.out          | 532.11\n",
       "100.out         | 431568\n",
       "101.out         | 325\n",
       "105.out         | 3.58966e+07\n",
       "106.out         | 7.11494e+07\n",
       "107.out         | 1.59049e+07\n",
       "108.out         | 12658.1\n",
       "109.out         | 11609.3\n",
       "... (721 rows omitted)"
      ]
     },
     "execution_count": 7,
     "metadata": {},
     "output_type": "execute_result"
    }
   ],
   "source": [
    "with_min = appended.group('output_filename', min).select(['output_filename', 'cost min'])\n",
    "with_min"
   ]
  },
  {
   "cell_type": "code",
   "execution_count": 6,
   "metadata": {},
   "outputs": [
    {
     "ename": "NameError",
     "evalue": "name 'appended' is not defined",
     "output_type": "error",
     "traceback": [
      "\u001b[0;31m---------------------------------------------------------------------------\u001b[0m",
      "\u001b[0;31mNameError\u001b[0m                                 Traceback (most recent call last)",
      "\u001b[0;32m<ipython-input-6-f5cedf6c7ea6>\u001b[0m in \u001b[0;36m<module>\u001b[0;34m()\u001b[0m\n\u001b[0;32m----> 1\u001b[0;31m \u001b[0mmin_output_selected\u001b[0m \u001b[0;34m=\u001b[0m \u001b[0mappended\u001b[0m\u001b[0;34m.\u001b[0m\u001b[0mjoin\u001b[0m\u001b[0;34m(\u001b[0m\u001b[0;34m'output_filename'\u001b[0m\u001b[0;34m,\u001b[0m \u001b[0mwith_min\u001b[0m\u001b[0;34m)\u001b[0m\u001b[0;34m.\u001b[0m\u001b[0mwhere\u001b[0m\u001b[0;34m(\u001b[0m\u001b[0;34m'cost'\u001b[0m\u001b[0;34m,\u001b[0m \u001b[0mare\u001b[0m\u001b[0;34m.\u001b[0m\u001b[0mequal_to\u001b[0m\u001b[0;34m,\u001b[0m \u001b[0;34m'cost min'\u001b[0m\u001b[0;34m)\u001b[0m\u001b[0;34m.\u001b[0m\u001b[0mdrop\u001b[0m\u001b[0;34m(\u001b[0m\u001b[0;34m'cost min'\u001b[0m\u001b[0;34m)\u001b[0m\u001b[0;34m\u001b[0m\u001b[0m\n\u001b[0m\u001b[1;32m      2\u001b[0m \u001b[0mmin_output_selected\u001b[0m\u001b[0;34m.\u001b[0m\u001b[0mmove_to_start\u001b[0m\u001b[0;34m(\u001b[0m\u001b[0;34m'output_dir'\u001b[0m\u001b[0;34m)\u001b[0m\u001b[0;34m\u001b[0m\u001b[0m\n\u001b[1;32m      3\u001b[0m \u001b[0mmin_output_selected\u001b[0m\u001b[0;34m\u001b[0m\u001b[0m\n",
      "\u001b[0;31mNameError\u001b[0m: name 'appended' is not defined"
     ]
    }
   ],
   "source": [
    "min_output_selected = appended.join('output_filename', with_min).where('cost', are.equal_to, 'cost min').drop('cost min')\n",
    "min_output_selected.move_to_start('output_dir')\n",
    "min_output_selected"
   ]
  },
  {
   "cell_type": "code",
   "execution_count": 67,
   "metadata": {
    "collapsed": true
   },
   "outputs": [],
   "source": [
    "# To implement: select files from min_out_selected and copy into a new folder\n"
   ]
  }
 ],
 "metadata": {
  "kernelspec": {
   "display_name": "Python 3",
   "language": "python",
   "name": "python3"
  },
  "language_info": {
   "codemirror_mode": {
    "name": "ipython",
    "version": 3
   },
   "file_extension": ".py",
   "mimetype": "text/x-python",
   "name": "python",
   "nbconvert_exporter": "python",
   "pygments_lexer": "ipython3",
   "version": "3.6.0"
  }
 },
 "nbformat": 4,
 "nbformat_minor": 2
}
