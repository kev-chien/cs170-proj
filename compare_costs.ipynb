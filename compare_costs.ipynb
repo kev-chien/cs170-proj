{
 "cells": [
  {
   "cell_type": "code",
   "execution_count": 21,
   "metadata": {},
   "outputs": [],
   "source": [
    "import matplotlib\n",
    "from datascience import Table\n",
    "%matplotlib inline\n",
    "import matplotlib.pyplot as plt\n",
    "import numpy as np\n",
    "plt.style.use('fivethirtyeight')\n",
    "\n",
    "from datascience.predicates import are\n",
    "import subprocess\n",
    "import os"
   ]
  },
  {
   "cell_type": "code",
   "execution_count": 24,
   "metadata": {},
   "outputs": [],
   "source": [
    "def total_cost(cost_table):\n",
    "    return sum(cost_table.apply(lambda row: row[4]))"
   ]
  },
  {
   "cell_type": "code",
   "execution_count": 7,
   "metadata": {},
   "outputs": [],
   "source": [
    "costs_1 = Table.read_table('costs/outputs-dijkstra-degree-greedy.csv')\n",
    "costs_2 = Table.read_table('costs/outputs.csv')"
   ]
  },
  {
   "cell_type": "code",
   "execution_count": 25,
   "metadata": {},
   "outputs": [
    {
     "name": "stdout",
     "output_type": "stream",
     "text": [
      "2445618540423.908\n",
      "2832819276532.0205\n"
     ]
    }
   ],
   "source": [
    "print(total_cost(costs_1))\n",
    "print(total_cost(costs_2))"
   ]
  },
  {
   "cell_type": "code",
   "execution_count": 8,
   "metadata": {},
   "outputs": [
    {
     "data": {
      "text/html": [
       "<table border=\"1\" class=\"dataframe\">\n",
       "    <thead>\n",
       "        <tr>\n",
       "            <th>output_dir</th> <th>output_filename</th> <th>travel_cost</th> <th>conquer_cost</th> <th>cost</th>\n",
       "        </tr>\n",
       "    </thead>\n",
       "    <tbody>\n",
       "        <tr>\n",
       "            <td>outputs-dijkstra-degree-greedy</td> <td>0.out          </td> <td>28         </td> <td>40          </td> <td>68         </td>\n",
       "        </tr>\n",
       "    </tbody>\n",
       "        <tr>\n",
       "            <td>outputs-dijkstra-degree-greedy</td> <td>1.out          </td> <td>194        </td> <td>52          </td> <td>246        </td>\n",
       "        </tr>\n",
       "    </tbody>\n",
       "        <tr>\n",
       "            <td>outputs-dijkstra-degree-greedy</td> <td>10.out         </td> <td>250.8      </td> <td>281.31      </td> <td>532.11     </td>\n",
       "        </tr>\n",
       "    </tbody>\n",
       "        <tr>\n",
       "            <td>outputs-dijkstra-degree-greedy</td> <td>100.out        </td> <td>403864     </td> <td>27704       </td> <td>431568     </td>\n",
       "        </tr>\n",
       "    </tbody>\n",
       "        <tr>\n",
       "            <td>outputs-dijkstra-degree-greedy</td> <td>101.out        </td> <td>324        </td> <td>1           </td> <td>325        </td>\n",
       "        </tr>\n",
       "    </tbody>\n",
       "        <tr>\n",
       "            <td>outputs-dijkstra-degree-greedy</td> <td>105.out        </td> <td>1.78909e+07</td> <td>1.80057e+07 </td> <td>3.58966e+07</td>\n",
       "        </tr>\n",
       "    </tbody>\n",
       "        <tr>\n",
       "            <td>outputs-dijkstra-degree-greedy</td> <td>106.out        </td> <td>3.59132e+07</td> <td>3.52362e+07 </td> <td>7.11494e+07</td>\n",
       "        </tr>\n",
       "    </tbody>\n",
       "        <tr>\n",
       "            <td>outputs-dijkstra-degree-greedy</td> <td>107.out        </td> <td>9.28911e+06</td> <td>6.61577e+06 </td> <td>1.59049e+07</td>\n",
       "        </tr>\n",
       "    </tbody>\n",
       "        <tr>\n",
       "            <td>outputs-dijkstra-degree-greedy</td> <td>108.out        </td> <td>10380      </td> <td>2278.12     </td> <td>12658.1    </td>\n",
       "        </tr>\n",
       "    </tbody>\n",
       "        <tr>\n",
       "            <td>outputs-dijkstra-degree-greedy</td> <td>109.out        </td> <td>9850.71    </td> <td>1758.54     </td> <td>11609.3    </td>\n",
       "        </tr>\n",
       "    </tbody>\n",
       "</table>\n",
       "<p>... (721 rows omitted)</p>"
      ],
      "text/plain": [
       "output_dir                     | output_filename | travel_cost | conquer_cost | cost\n",
       "outputs-dijkstra-degree-greedy | 0.out           | 28          | 40           | 68\n",
       "outputs-dijkstra-degree-greedy | 1.out           | 194         | 52           | 246\n",
       "outputs-dijkstra-degree-greedy | 10.out          | 250.8       | 281.31       | 532.11\n",
       "outputs-dijkstra-degree-greedy | 100.out         | 403864      | 27704        | 431568\n",
       "outputs-dijkstra-degree-greedy | 101.out         | 324         | 1            | 325\n",
       "outputs-dijkstra-degree-greedy | 105.out         | 1.78909e+07 | 1.80057e+07  | 3.58966e+07\n",
       "outputs-dijkstra-degree-greedy | 106.out         | 3.59132e+07 | 3.52362e+07  | 7.11494e+07\n",
       "outputs-dijkstra-degree-greedy | 107.out         | 9.28911e+06 | 6.61577e+06  | 1.59049e+07\n",
       "outputs-dijkstra-degree-greedy | 108.out         | 10380       | 2278.12      | 12658.1\n",
       "outputs-dijkstra-degree-greedy | 109.out         | 9850.71     | 1758.54      | 11609.3\n",
       "... (721 rows omitted)"
      ]
     },
     "execution_count": 8,
     "metadata": {},
     "output_type": "execute_result"
    }
   ],
   "source": [
    "costs_1"
   ]
  },
  {
   "cell_type": "code",
   "execution_count": 9,
   "metadata": {},
   "outputs": [
    {
     "data": {
      "text/html": [
       "<table border=\"1\" class=\"dataframe\">\n",
       "    <thead>\n",
       "        <tr>\n",
       "            <th>output_dir</th> <th>output_filename</th> <th>travel_cost</th> <th>conquer_cost</th> <th>cost</th>\n",
       "        </tr>\n",
       "    </thead>\n",
       "    <tbody>\n",
       "        <tr>\n",
       "            <td>outputs   </td> <td>0.out          </td> <td>16         </td> <td>51          </td> <td>67         </td>\n",
       "        </tr>\n",
       "    </tbody>\n",
       "        <tr>\n",
       "            <td>outputs   </td> <td>1.out          </td> <td>194        </td> <td>52          </td> <td>246        </td>\n",
       "        </tr>\n",
       "    </tbody>\n",
       "        <tr>\n",
       "            <td>outputs   </td> <td>10.out         </td> <td>305.62     </td> <td>351.85      </td> <td>657.47     </td>\n",
       "        </tr>\n",
       "    </tbody>\n",
       "        <tr>\n",
       "            <td>outputs   </td> <td>100.out        </td> <td>403864     </td> <td>27704       </td> <td>431568     </td>\n",
       "        </tr>\n",
       "    </tbody>\n",
       "        <tr>\n",
       "            <td>outputs   </td> <td>101.out        </td> <td>324        </td> <td>1           </td> <td>325        </td>\n",
       "        </tr>\n",
       "    </tbody>\n",
       "        <tr>\n",
       "            <td>outputs   </td> <td>105.out        </td> <td>2.41584e+07</td> <td>1.48975e+07 </td> <td>3.90559e+07</td>\n",
       "        </tr>\n",
       "    </tbody>\n",
       "        <tr>\n",
       "            <td>outputs   </td> <td>106.out        </td> <td>4.46618e+07</td> <td>2.97175e+07 </td> <td>7.43793e+07</td>\n",
       "        </tr>\n",
       "    </tbody>\n",
       "        <tr>\n",
       "            <td>outputs   </td> <td>107.out        </td> <td>1.23333e+07</td> <td>6.44751e+06 </td> <td>1.87808e+07</td>\n",
       "        </tr>\n",
       "    </tbody>\n",
       "        <tr>\n",
       "            <td>outputs   </td> <td>108.out        </td> <td>13308.1    </td> <td>3376.05     </td> <td>16684.2    </td>\n",
       "        </tr>\n",
       "    </tbody>\n",
       "        <tr>\n",
       "            <td>outputs   </td> <td>109.out        </td> <td>10799.8    </td> <td>1880.66     </td> <td>12680.5    </td>\n",
       "        </tr>\n",
       "    </tbody>\n",
       "</table>\n",
       "<p>... (694 rows omitted)</p>"
      ],
      "text/plain": [
       "output_dir | output_filename | travel_cost | conquer_cost | cost\n",
       "outputs    | 0.out           | 16          | 51           | 67\n",
       "outputs    | 1.out           | 194         | 52           | 246\n",
       "outputs    | 10.out          | 305.62      | 351.85       | 657.47\n",
       "outputs    | 100.out         | 403864      | 27704        | 431568\n",
       "outputs    | 101.out         | 324         | 1            | 325\n",
       "outputs    | 105.out         | 2.41584e+07 | 1.48975e+07  | 3.90559e+07\n",
       "outputs    | 106.out         | 4.46618e+07 | 2.97175e+07  | 7.43793e+07\n",
       "outputs    | 107.out         | 1.23333e+07 | 6.44751e+06  | 1.87808e+07\n",
       "outputs    | 108.out         | 13308.1     | 3376.05      | 16684.2\n",
       "outputs    | 109.out         | 10799.8     | 1880.66      | 12680.5\n",
       "... (694 rows omitted)"
      ]
     },
     "execution_count": 9,
     "metadata": {},
     "output_type": "execute_result"
    }
   ],
   "source": [
    "costs_2"
   ]
  },
  {
   "cell_type": "code",
   "execution_count": 10,
   "metadata": {},
   "outputs": [
    {
     "data": {
      "text/html": [
       "<table border=\"1\" class=\"dataframe\">\n",
       "    <thead>\n",
       "        <tr>\n",
       "            <th>output_filename</th> <th>output_dir</th> <th>travel_cost</th> <th>conquer_cost</th> <th>cost</th> <th>output_dir_2</th> <th>travel_cost_2</th> <th>conquer_cost_2</th> <th>cost_2</th>\n",
       "        </tr>\n",
       "    </thead>\n",
       "    <tbody>\n",
       "        <tr>\n",
       "            <td>0.out          </td> <td>outputs-dijkstra-degree-greedy</td> <td>28         </td> <td>40          </td> <td>68     </td> <td>outputs     </td> <td>16           </td> <td>51            </td> <td>67     </td>\n",
       "        </tr>\n",
       "    </tbody>\n",
       "        <tr>\n",
       "            <td>117.out        </td> <td>outputs-dijkstra-degree-greedy</td> <td>375        </td> <td>602         </td> <td>977    </td> <td>outputs     </td> <td>376          </td> <td>520           </td> <td>896    </td>\n",
       "        </tr>\n",
       "    </tbody>\n",
       "        <tr>\n",
       "            <td>118.out        </td> <td>outputs-dijkstra-degree-greedy</td> <td>775        </td> <td>1206        </td> <td>1981   </td> <td>outputs     </td> <td>776          </td> <td>1040          </td> <td>1816   </td>\n",
       "        </tr>\n",
       "    </tbody>\n",
       "        <tr>\n",
       "            <td>119.out        </td> <td>outputs-dijkstra-degree-greedy</td> <td>176        </td> <td>300         </td> <td>476    </td> <td>outputs     </td> <td>176          </td> <td>260           </td> <td>436    </td>\n",
       "        </tr>\n",
       "    </tbody>\n",
       "        <tr>\n",
       "            <td>121.out        </td> <td>outputs-dijkstra-degree-greedy</td> <td>63248      </td> <td>1845        </td> <td>65093  </td> <td>outputs     </td> <td>63300        </td> <td>1171          </td> <td>64471  </td>\n",
       "        </tr>\n",
       "    </tbody>\n",
       "        <tr>\n",
       "            <td>122.out        </td> <td>outputs-dijkstra-degree-greedy</td> <td>786        </td> <td>516         </td> <td>1302   </td> <td>outputs     </td> <td>810          </td> <td>452           </td> <td>1262   </td>\n",
       "        </tr>\n",
       "    </tbody>\n",
       "        <tr>\n",
       "            <td>126.out        </td> <td>outputs-dijkstra-degree-greedy</td> <td>274        </td> <td>720         </td> <td>994    </td> <td>outputs     </td> <td>306          </td> <td>600           </td> <td>906    </td>\n",
       "        </tr>\n",
       "    </tbody>\n",
       "        <tr>\n",
       "            <td>145.out        </td> <td>outputs-dijkstra-degree-greedy</td> <td>992.26     </td> <td>1048        </td> <td>2040.26</td> <td>outputs     </td> <td>1141.12      </td> <td>837           </td> <td>1978.12</td>\n",
       "        </tr>\n",
       "    </tbody>\n",
       "        <tr>\n",
       "            <td>146.out        </td> <td>outputs-dijkstra-degree-greedy</td> <td>133        </td> <td>91          </td> <td>224    </td> <td>outputs     </td> <td>149          </td> <td>65            </td> <td>214    </td>\n",
       "        </tr>\n",
       "    </tbody>\n",
       "        <tr>\n",
       "            <td>157.out        </td> <td>outputs-dijkstra-degree-greedy</td> <td>32         </td> <td>189064      </td> <td>189096 </td> <td>outputs     </td> <td>30           </td> <td>173498        </td> <td>173528 </td>\n",
       "        </tr>\n",
       "    </tbody>\n",
       "</table>\n",
       "<p>... (179 rows omitted)</p>"
      ],
      "text/plain": [
       "output_filename | output_dir                     | travel_cost | conquer_cost | cost    | output_dir_2 | travel_cost_2 | conquer_cost_2 | cost_2\n",
       "0.out           | outputs-dijkstra-degree-greedy | 28          | 40           | 68      | outputs      | 16            | 51             | 67\n",
       "117.out         | outputs-dijkstra-degree-greedy | 375         | 602          | 977     | outputs      | 376           | 520            | 896\n",
       "118.out         | outputs-dijkstra-degree-greedy | 775         | 1206         | 1981    | outputs      | 776           | 1040           | 1816\n",
       "119.out         | outputs-dijkstra-degree-greedy | 176         | 300          | 476     | outputs      | 176           | 260            | 436\n",
       "121.out         | outputs-dijkstra-degree-greedy | 63248       | 1845         | 65093   | outputs      | 63300         | 1171           | 64471\n",
       "122.out         | outputs-dijkstra-degree-greedy | 786         | 516          | 1302    | outputs      | 810           | 452            | 1262\n",
       "126.out         | outputs-dijkstra-degree-greedy | 274         | 720          | 994     | outputs      | 306           | 600            | 906\n",
       "145.out         | outputs-dijkstra-degree-greedy | 992.26      | 1048         | 2040.26 | outputs      | 1141.12       | 837            | 1978.12\n",
       "146.out         | outputs-dijkstra-degree-greedy | 133         | 91           | 224     | outputs      | 149           | 65             | 214\n",
       "157.out         | outputs-dijkstra-degree-greedy | 32          | 189064       | 189096  | outputs      | 30            | 173498         | 173528\n",
       "... (179 rows omitted)"
      ]
     },
     "execution_count": 10,
     "metadata": {},
     "output_type": "execute_result"
    }
   ],
   "source": [
    "d = costs_1.join('output_filename', costs_2)\n",
    "d.where(\"cost\", are.above, \"cost_2\")\n",
    "# d"
   ]
  },
  {
   "cell_type": "code",
   "execution_count": 11,
   "metadata": {},
   "outputs": [
    {
     "data": {
      "text/html": [
       "<table border=\"1\" class=\"dataframe\">\n",
       "    <thead>\n",
       "        <tr>\n",
       "            <th>output_dir</th> <th>output_filename</th> <th>travel_cost</th> <th>conquer_cost</th> <th>cost</th>\n",
       "        </tr>\n",
       "    </thead>\n",
       "    <tbody>\n",
       "        <tr>\n",
       "            <td>outputs-dijkstra-degree-greedy</td> <td>0.out          </td> <td>28         </td> <td>40          </td> <td>68    </td>\n",
       "        </tr>\n",
       "    </tbody>\n",
       "        <tr>\n",
       "            <td>outputs                       </td> <td>0.out          </td> <td>16         </td> <td>51          </td> <td>67    </td>\n",
       "        </tr>\n",
       "    </tbody>\n",
       "        <tr>\n",
       "            <td>outputs-dijkstra-degree-greedy</td> <td>1.out          </td> <td>194        </td> <td>52          </td> <td>246   </td>\n",
       "        </tr>\n",
       "    </tbody>\n",
       "        <tr>\n",
       "            <td>outputs                       </td> <td>1.out          </td> <td>194        </td> <td>52          </td> <td>246   </td>\n",
       "        </tr>\n",
       "    </tbody>\n",
       "        <tr>\n",
       "            <td>outputs-dijkstra-degree-greedy</td> <td>10.out         </td> <td>250.8      </td> <td>281.31      </td> <td>532.11</td>\n",
       "        </tr>\n",
       "    </tbody>\n",
       "        <tr>\n",
       "            <td>outputs                       </td> <td>10.out         </td> <td>305.62     </td> <td>351.85      </td> <td>657.47</td>\n",
       "        </tr>\n",
       "    </tbody>\n",
       "        <tr>\n",
       "            <td>outputs-dijkstra-degree-greedy</td> <td>100.out        </td> <td>403864     </td> <td>27704       </td> <td>431568</td>\n",
       "        </tr>\n",
       "    </tbody>\n",
       "        <tr>\n",
       "            <td>outputs                       </td> <td>100.out        </td> <td>403864     </td> <td>27704       </td> <td>431568</td>\n",
       "        </tr>\n",
       "    </tbody>\n",
       "        <tr>\n",
       "            <td>outputs-dijkstra-degree-greedy</td> <td>101.out        </td> <td>324        </td> <td>1           </td> <td>325   </td>\n",
       "        </tr>\n",
       "    </tbody>\n",
       "        <tr>\n",
       "            <td>outputs                       </td> <td>101.out        </td> <td>324        </td> <td>1           </td> <td>325   </td>\n",
       "        </tr>\n",
       "    </tbody>\n",
       "</table>\n",
       "<p>... (1425 rows omitted)</p>"
      ],
      "text/plain": [
       "output_dir                     | output_filename | travel_cost | conquer_cost | cost\n",
       "outputs-dijkstra-degree-greedy | 0.out           | 28          | 40           | 68\n",
       "outputs                        | 0.out           | 16          | 51           | 67\n",
       "outputs-dijkstra-degree-greedy | 1.out           | 194         | 52           | 246\n",
       "outputs                        | 1.out           | 194         | 52           | 246\n",
       "outputs-dijkstra-degree-greedy | 10.out          | 250.8       | 281.31       | 532.11\n",
       "outputs                        | 10.out          | 305.62      | 351.85       | 657.47\n",
       "outputs-dijkstra-degree-greedy | 100.out         | 403864      | 27704        | 431568\n",
       "outputs                        | 100.out         | 403864      | 27704        | 431568\n",
       "outputs-dijkstra-degree-greedy | 101.out         | 324         | 1            | 325\n",
       "outputs                        | 101.out         | 324         | 1            | 325\n",
       "... (1425 rows omitted)"
      ]
     },
     "execution_count": 11,
     "metadata": {},
     "output_type": "execute_result"
    }
   ],
   "source": [
    "appended = costs_1.copy().append(costs_2).sort('output_filename')\n",
    "appended"
   ]
  },
  {
   "cell_type": "code",
   "execution_count": 12,
   "metadata": {},
   "outputs": [
    {
     "data": {
      "text/html": [
       "<table border=\"1\" class=\"dataframe\">\n",
       "    <thead>\n",
       "        <tr>\n",
       "            <th>output_filename</th> <th>cost min</th>\n",
       "        </tr>\n",
       "    </thead>\n",
       "    <tbody>\n",
       "        <tr>\n",
       "            <td>0.out          </td> <td>67         </td>\n",
       "        </tr>\n",
       "    </tbody>\n",
       "        <tr>\n",
       "            <td>1.out          </td> <td>246        </td>\n",
       "        </tr>\n",
       "    </tbody>\n",
       "        <tr>\n",
       "            <td>10.out         </td> <td>532.11     </td>\n",
       "        </tr>\n",
       "    </tbody>\n",
       "        <tr>\n",
       "            <td>100.out        </td> <td>431568     </td>\n",
       "        </tr>\n",
       "    </tbody>\n",
       "        <tr>\n",
       "            <td>101.out        </td> <td>325        </td>\n",
       "        </tr>\n",
       "    </tbody>\n",
       "        <tr>\n",
       "            <td>105.out        </td> <td>3.58966e+07</td>\n",
       "        </tr>\n",
       "    </tbody>\n",
       "        <tr>\n",
       "            <td>106.out        </td> <td>7.11494e+07</td>\n",
       "        </tr>\n",
       "    </tbody>\n",
       "        <tr>\n",
       "            <td>107.out        </td> <td>1.59049e+07</td>\n",
       "        </tr>\n",
       "    </tbody>\n",
       "        <tr>\n",
       "            <td>108.out        </td> <td>12658.1    </td>\n",
       "        </tr>\n",
       "    </tbody>\n",
       "        <tr>\n",
       "            <td>109.out        </td> <td>11609.3    </td>\n",
       "        </tr>\n",
       "    </tbody>\n",
       "</table>\n",
       "<p>... (721 rows omitted)</p>"
      ],
      "text/plain": [
       "output_filename | cost min\n",
       "0.out           | 67\n",
       "1.out           | 246\n",
       "10.out          | 532.11\n",
       "100.out         | 431568\n",
       "101.out         | 325\n",
       "105.out         | 3.58966e+07\n",
       "106.out         | 7.11494e+07\n",
       "107.out         | 1.59049e+07\n",
       "108.out         | 12658.1\n",
       "109.out         | 11609.3\n",
       "... (721 rows omitted)"
      ]
     },
     "execution_count": 12,
     "metadata": {},
     "output_type": "execute_result"
    }
   ],
   "source": [
    "with_min = appended.group('output_filename', min).select(['output_filename', 'cost min'])\n",
    "with_min"
   ]
  },
  {
   "cell_type": "code",
   "execution_count": 28,
   "metadata": {},
   "outputs": [
    {
     "data": {
      "text/html": [
       "<table border=\"1\" class=\"dataframe\">\n",
       "    <thead>\n",
       "        <tr>\n",
       "            <th>output_dir</th> <th>output_filename</th> <th>travel_cost</th> <th>conquer_cost</th> <th>cost</th>\n",
       "        </tr>\n",
       "    </thead>\n",
       "    <tbody>\n",
       "        <tr>\n",
       "            <td>outputs                       </td> <td>0.out          </td> <td>16         </td> <td>51          </td> <td>67         </td>\n",
       "        </tr>\n",
       "    </tbody>\n",
       "        <tr>\n",
       "            <td>outputs-dijkstra-degree-greedy</td> <td>1.out          </td> <td>194        </td> <td>52          </td> <td>246        </td>\n",
       "        </tr>\n",
       "    </tbody>\n",
       "        <tr>\n",
       "            <td>outputs                       </td> <td>1.out          </td> <td>194        </td> <td>52          </td> <td>246        </td>\n",
       "        </tr>\n",
       "    </tbody>\n",
       "        <tr>\n",
       "            <td>outputs-dijkstra-degree-greedy</td> <td>10.out         </td> <td>250.8      </td> <td>281.31      </td> <td>532.11     </td>\n",
       "        </tr>\n",
       "    </tbody>\n",
       "        <tr>\n",
       "            <td>outputs-dijkstra-degree-greedy</td> <td>100.out        </td> <td>403864     </td> <td>27704       </td> <td>431568     </td>\n",
       "        </tr>\n",
       "    </tbody>\n",
       "        <tr>\n",
       "            <td>outputs                       </td> <td>100.out        </td> <td>403864     </td> <td>27704       </td> <td>431568     </td>\n",
       "        </tr>\n",
       "    </tbody>\n",
       "        <tr>\n",
       "            <td>outputs-dijkstra-degree-greedy</td> <td>101.out        </td> <td>324        </td> <td>1           </td> <td>325        </td>\n",
       "        </tr>\n",
       "    </tbody>\n",
       "        <tr>\n",
       "            <td>outputs                       </td> <td>101.out        </td> <td>324        </td> <td>1           </td> <td>325        </td>\n",
       "        </tr>\n",
       "    </tbody>\n",
       "        <tr>\n",
       "            <td>outputs-dijkstra-degree-greedy</td> <td>105.out        </td> <td>1.78909e+07</td> <td>1.80057e+07 </td> <td>3.58966e+07</td>\n",
       "        </tr>\n",
       "    </tbody>\n",
       "        <tr>\n",
       "            <td>outputs-dijkstra-degree-greedy</td> <td>106.out        </td> <td>3.59132e+07</td> <td>3.52362e+07 </td> <td>7.11494e+07</td>\n",
       "        </tr>\n",
       "    </tbody>\n",
       "</table>\n",
       "<p>... (805 rows omitted)</p>"
      ],
      "text/plain": [
       "output_dir                     | output_filename | travel_cost | conquer_cost | cost\n",
       "outputs                        | 0.out           | 16          | 51           | 67\n",
       "outputs-dijkstra-degree-greedy | 1.out           | 194         | 52           | 246\n",
       "outputs                        | 1.out           | 194         | 52           | 246\n",
       "outputs-dijkstra-degree-greedy | 10.out          | 250.8       | 281.31       | 532.11\n",
       "outputs-dijkstra-degree-greedy | 100.out         | 403864      | 27704        | 431568\n",
       "outputs                        | 100.out         | 403864      | 27704        | 431568\n",
       "outputs-dijkstra-degree-greedy | 101.out         | 324         | 1            | 325\n",
       "outputs                        | 101.out         | 324         | 1            | 325\n",
       "outputs-dijkstra-degree-greedy | 105.out         | 1.78909e+07 | 1.80057e+07  | 3.58966e+07\n",
       "outputs-dijkstra-degree-greedy | 106.out         | 3.59132e+07 | 3.52362e+07  | 7.11494e+07\n",
       "... (805 rows omitted)"
      ]
     },
     "execution_count": 28,
     "metadata": {},
     "output_type": "execute_result"
    }
   ],
   "source": [
    "min_output_selected = appended.join('output_filename', with_min).where('cost', are.equal_to, 'cost min').drop('cost min')\n",
    "min_output_selected.move_to_start('output_dir')\n",
    "min_output_selected"
   ]
  },
  {
   "cell_type": "code",
   "execution_count": 23,
   "metadata": {},
   "outputs": [
    {
     "data": {
      "text/html": [
       "<table border=\"1\" class=\"dataframe\">\n",
       "    <thead>\n",
       "        <tr>\n",
       "            <th>output_dir</th> <th>output_filename</th> <th>travel_cost</th> <th>conquer_cost</th> <th>cost</th>\n",
       "        </tr>\n",
       "    </thead>\n",
       "    <tbody>\n",
       "        <tr>\n",
       "            <td>outputs                       </td> <td>0.out          </td> <td>16         </td> <td>51          </td> <td>67         </td>\n",
       "        </tr>\n",
       "    </tbody>\n",
       "        <tr>\n",
       "            <td>outputs-dijkstra-degree-greedy</td> <td>1.out          </td> <td>194        </td> <td>52          </td> <td>246        </td>\n",
       "        </tr>\n",
       "    </tbody>\n",
       "        <tr>\n",
       "            <td>outputs-dijkstra-degree-greedy</td> <td>10.out         </td> <td>250.8      </td> <td>281.31      </td> <td>532.11     </td>\n",
       "        </tr>\n",
       "    </tbody>\n",
       "        <tr>\n",
       "            <td>outputs-dijkstra-degree-greedy</td> <td>100.out        </td> <td>403864     </td> <td>27704       </td> <td>431568     </td>\n",
       "        </tr>\n",
       "    </tbody>\n",
       "        <tr>\n",
       "            <td>outputs-dijkstra-degree-greedy</td> <td>101.out        </td> <td>324        </td> <td>1           </td> <td>325        </td>\n",
       "        </tr>\n",
       "    </tbody>\n",
       "        <tr>\n",
       "            <td>outputs-dijkstra-degree-greedy</td> <td>105.out        </td> <td>1.78909e+07</td> <td>1.80057e+07 </td> <td>3.58966e+07</td>\n",
       "        </tr>\n",
       "    </tbody>\n",
       "        <tr>\n",
       "            <td>outputs-dijkstra-degree-greedy</td> <td>106.out        </td> <td>3.59132e+07</td> <td>3.52362e+07 </td> <td>7.11494e+07</td>\n",
       "        </tr>\n",
       "    </tbody>\n",
       "        <tr>\n",
       "            <td>outputs-dijkstra-degree-greedy</td> <td>107.out        </td> <td>9.28911e+06</td> <td>6.61577e+06 </td> <td>1.59049e+07</td>\n",
       "        </tr>\n",
       "    </tbody>\n",
       "        <tr>\n",
       "            <td>outputs-dijkstra-degree-greedy</td> <td>108.out        </td> <td>10380      </td> <td>2278.12     </td> <td>12658.1    </td>\n",
       "        </tr>\n",
       "    </tbody>\n",
       "        <tr>\n",
       "            <td>outputs-dijkstra-degree-greedy</td> <td>109.out        </td> <td>9850.71    </td> <td>1758.54     </td> <td>11609.3    </td>\n",
       "        </tr>\n",
       "    </tbody>\n",
       "</table>\n",
       "<p>... (721 rows omitted)</p>"
      ],
      "text/plain": [
       "output_dir                     | output_filename | travel_cost | conquer_cost | cost\n",
       "outputs                        | 0.out           | 16          | 51           | 67\n",
       "outputs-dijkstra-degree-greedy | 1.out           | 194         | 52           | 246\n",
       "outputs-dijkstra-degree-greedy | 10.out          | 250.8       | 281.31       | 532.11\n",
       "outputs-dijkstra-degree-greedy | 100.out         | 403864      | 27704        | 431568\n",
       "outputs-dijkstra-degree-greedy | 101.out         | 324         | 1            | 325\n",
       "outputs-dijkstra-degree-greedy | 105.out         | 1.78909e+07 | 1.80057e+07  | 3.58966e+07\n",
       "outputs-dijkstra-degree-greedy | 106.out         | 3.59132e+07 | 3.52362e+07  | 7.11494e+07\n",
       "outputs-dijkstra-degree-greedy | 107.out         | 9.28911e+06 | 6.61577e+06  | 1.59049e+07\n",
       "outputs-dijkstra-degree-greedy | 108.out         | 10380       | 2278.12      | 12658.1\n",
       "outputs-dijkstra-degree-greedy | 109.out         | 9850.71     | 1758.54      | 11609.3\n",
       "... (721 rows omitted)"
      ]
     },
     "execution_count": 23,
     "metadata": {},
     "output_type": "execute_result"
    }
   ],
   "source": [
    "# Remove duplicates\n",
    "rows_to_take = []\n",
    "seen = set()\n",
    "for i in range(min_output_selected.num_rows):\n",
    "    filename = min_output_selected.row(i)[1]\n",
    "    if filename not in seen:\n",
    "        seen.add(filename)\n",
    "        rows_to_take.append(i)\n",
    "min_output_selected = min_output_selected.take(rows_to_take)\n",
    "min_output_selected"
   ]
  },
  {
   "cell_type": "code",
   "execution_count": 26,
   "metadata": {},
   "outputs": [
    {
     "name": "stdout",
     "output_type": "stream",
     "text": [
      "2397365144778.0933\n"
     ]
    }
   ],
   "source": [
    "# To implement: select files from min_out_selected and copy into a new folder\n",
    "new_outputs_name = \"outputs2\"\n",
    "\n",
    "if not os.path.exists(new_outputs_name):\n",
    "    os.makedirs(new_outputs_name)\n",
    "\n",
    "for i in range(min_output_selected.num_rows):\n",
    "    row = min_output_selected.row(i)\n",
    "    dirname = row[0]\n",
    "    filename = row[1]\n",
    "    subprocess.run(['cp', f'{dirname}/{filename}', f'{new_outputs_name}/{filename}'])\n",
    "\n",
    "print(total_cost(min_output_selected))\n",
    "# min_output_selected.to_csv(f'costs/{new_outputs_name}.csv')"
   ]
  },
  {
   "cell_type": "code",
   "execution_count": null,
   "metadata": {},
   "outputs": [],
   "source": []
  }
 ],
 "metadata": {
  "kernelspec": {
   "display_name": "Python 3",
   "language": "python",
   "name": "python3"
  },
  "language_info": {
   "codemirror_mode": {
    "name": "ipython",
    "version": 3
   },
   "file_extension": ".py",
   "mimetype": "text/x-python",
   "name": "python",
   "nbconvert_exporter": "python",
   "pygments_lexer": "ipython3",
   "version": "3.6.0"
  }
 },
 "nbformat": 4,
 "nbformat_minor": 2
}
