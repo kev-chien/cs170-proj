{
 "cells": [
  {
   "cell_type": "code",
   "execution_count": 1,
   "metadata": {},
   "outputs": [],
   "source": [
    "import matplotlib\n",
    "from datascience import Table\n",
    "%matplotlib inline\n",
    "import matplotlib.pyplot as plt\n",
    "import numpy as np\n",
    "plt.style.use('fivethirtyeight')\n",
    "\n",
    "from datascience.predicates import are\n",
    "import subprocess\n",
    "import os"
   ]
  },
  {
   "cell_type": "code",
   "execution_count": 20,
   "metadata": {},
   "outputs": [],
   "source": [
    "def total_cost(cost_table):\n",
    "    return sum(cost_table.apply(lambda row: row[4]))"
   ]
  },
  {
   "cell_type": "code",
   "execution_count": 37,
   "metadata": {},
   "outputs": [],
   "source": [
    "costs_1 = Table.read_table('costs/outputs.csv')\n",
    "costs_2 = Table.read_table('costs/outputs-concorde.csv')"
   ]
  },
  {
   "cell_type": "code",
   "execution_count": 38,
   "metadata": {},
   "outputs": [
    {
     "name": "stdout",
     "output_type": "stream",
     "text": [
      "2397365144778.0933\n",
      "1952293876353.008\n"
     ]
    }
   ],
   "source": [
    "print(total_cost(costs_1))\n",
    "print(total_cost(costs_2))"
   ]
  },
  {
   "cell_type": "code",
   "execution_count": 23,
   "metadata": {},
   "outputs": [
    {
     "data": {
      "text/html": [
       "<table border=\"1\" class=\"dataframe\">\n",
       "    <thead>\n",
       "        <tr>\n",
       "            <th>output_dir</th> <th>output_filename</th> <th>travel_cost</th> <th>conquer_cost</th> <th>cost</th>\n",
       "        </tr>\n",
       "    </thead>\n",
       "    <tbody>\n",
       "        <tr>\n",
       "            <td>outputs   </td> <td>721.out        </td> <td>80         </td> <td>61          </td> <td>141        </td>\n",
       "        </tr>\n",
       "    </tbody>\n",
       "        <tr>\n",
       "            <td>outputs   </td> <td>722.out        </td> <td>80         </td> <td>60          </td> <td>140        </td>\n",
       "        </tr>\n",
       "    </tbody>\n",
       "        <tr>\n",
       "            <td>outputs   </td> <td>723.out        </td> <td>656.773    </td> <td>589.814     </td> <td>1246.59    </td>\n",
       "        </tr>\n",
       "    </tbody>\n",
       "        <tr>\n",
       "            <td>outputs   </td> <td>724.out        </td> <td>706.375    </td> <td>680.578     </td> <td>1386.95    </td>\n",
       "        </tr>\n",
       "    </tbody>\n",
       "        <tr>\n",
       "            <td>outputs   </td> <td>725.out        </td> <td>459.672    </td> <td>492.71      </td> <td>952.382    </td>\n",
       "        </tr>\n",
       "    </tbody>\n",
       "        <tr>\n",
       "            <td>outputs   </td> <td>726.out        </td> <td>4.1539e+07 </td> <td>1.60577e+07 </td> <td>5.75967e+07</td>\n",
       "        </tr>\n",
       "    </tbody>\n",
       "        <tr>\n",
       "            <td>outputs   </td> <td>727.out        </td> <td>9.33082e+07</td> <td>3.45869e+07 </td> <td>1.27895e+08</td>\n",
       "        </tr>\n",
       "    </tbody>\n",
       "        <tr>\n",
       "            <td>outputs   </td> <td>728.out        </td> <td>1.38452e+10</td> <td>2.32112e+09 </td> <td>1.61663e+10</td>\n",
       "        </tr>\n",
       "    </tbody>\n",
       "        <tr>\n",
       "            <td>outputs   </td> <td>729.out        </td> <td>6417       </td> <td>4018        </td> <td>10435      </td>\n",
       "        </tr>\n",
       "    </tbody>\n",
       "        <tr>\n",
       "            <td>outputs   </td> <td>73.out         </td> <td>360        </td> <td>320         </td> <td>680        </td>\n",
       "        </tr>\n",
       "    </tbody>\n",
       "</table>\n",
       "<p>... (51 rows omitted)</p>"
      ],
      "text/plain": [
       "output_dir | output_filename | travel_cost | conquer_cost | cost\n",
       "outputs    | 721.out         | 80          | 61           | 141\n",
       "outputs    | 722.out         | 80          | 60           | 140\n",
       "outputs    | 723.out         | 656.773     | 589.814      | 1246.59\n",
       "outputs    | 724.out         | 706.375     | 680.578      | 1386.95\n",
       "outputs    | 725.out         | 459.672     | 492.71       | 952.382\n",
       "outputs    | 726.out         | 4.1539e+07  | 1.60577e+07  | 5.75967e+07\n",
       "outputs    | 727.out         | 9.33082e+07 | 3.45869e+07  | 1.27895e+08\n",
       "outputs    | 728.out         | 1.38452e+10 | 2.32112e+09  | 1.61663e+10\n",
       "outputs    | 729.out         | 6417        | 4018         | 10435\n",
       "outputs    | 73.out          | 360         | 320          | 680\n",
       "... (51 rows omitted)"
      ]
     },
     "execution_count": 23,
     "metadata": {},
     "output_type": "execute_result"
    }
   ],
   "source": [
    "costs_1.where('output_filename', are.above('720.out'))"
   ]
  },
  {
   "cell_type": "code",
   "execution_count": 24,
   "metadata": {},
   "outputs": [
    {
     "data": {
      "text/html": [
       "<table border=\"1\" class=\"dataframe\">\n",
       "    <thead>\n",
       "        <tr>\n",
       "            <th>output_dir</th> <th>output_filename</th> <th>travel_cost</th> <th>conquer_cost</th> <th>cost</th>\n",
       "        </tr>\n",
       "    </thead>\n",
       "    <tbody>\n",
       "        <tr>\n",
       "            <td>outputs-concorde</td> <td>0.out          </td> <td>28         </td> <td>40          </td> <td>68         </td>\n",
       "        </tr>\n",
       "    </tbody>\n",
       "        <tr>\n",
       "            <td>outputs-concorde</td> <td>1.out          </td> <td>194        </td> <td>52          </td> <td>246        </td>\n",
       "        </tr>\n",
       "    </tbody>\n",
       "        <tr>\n",
       "            <td>outputs-concorde</td> <td>10.out         </td> <td>175.69     </td> <td>281.31      </td> <td>457        </td>\n",
       "        </tr>\n",
       "    </tbody>\n",
       "        <tr>\n",
       "            <td>outputs-concorde</td> <td>100.out        </td> <td>403864     </td> <td>27704       </td> <td>431568     </td>\n",
       "        </tr>\n",
       "    </tbody>\n",
       "        <tr>\n",
       "            <td>outputs-concorde</td> <td>105.out        </td> <td>1.16009e+07</td> <td>1.80057e+07 </td> <td>2.96065e+07</td>\n",
       "        </tr>\n",
       "    </tbody>\n",
       "        <tr>\n",
       "            <td>outputs-concorde</td> <td>106.out        </td> <td>2.53959e+07</td> <td>3.52362e+07 </td> <td>6.06321e+07</td>\n",
       "        </tr>\n",
       "    </tbody>\n",
       "        <tr>\n",
       "            <td>outputs-concorde</td> <td>107.out        </td> <td>6.44545e+06</td> <td>6.61577e+06 </td> <td>1.30612e+07</td>\n",
       "        </tr>\n",
       "    </tbody>\n",
       "        <tr>\n",
       "            <td>outputs-concorde</td> <td>108.out        </td> <td>6936.75    </td> <td>2278.12     </td> <td>9214.87    </td>\n",
       "        </tr>\n",
       "    </tbody>\n",
       "        <tr>\n",
       "            <td>outputs-concorde</td> <td>109.out        </td> <td>5922.62    </td> <td>1758.54     </td> <td>7681.17    </td>\n",
       "        </tr>\n",
       "    </tbody>\n",
       "        <tr>\n",
       "            <td>outputs-concorde</td> <td>11.out         </td> <td>105.88     </td> <td>102.89      </td> <td>208.77     </td>\n",
       "        </tr>\n",
       "    </tbody>\n",
       "</table>\n",
       "<p>... (688 rows omitted)</p>"
      ],
      "text/plain": [
       "output_dir       | output_filename | travel_cost | conquer_cost | cost\n",
       "outputs-concorde | 0.out           | 28          | 40           | 68\n",
       "outputs-concorde | 1.out           | 194         | 52           | 246\n",
       "outputs-concorde | 10.out          | 175.69      | 281.31       | 457\n",
       "outputs-concorde | 100.out         | 403864      | 27704        | 431568\n",
       "outputs-concorde | 105.out         | 1.16009e+07 | 1.80057e+07  | 2.96065e+07\n",
       "outputs-concorde | 106.out         | 2.53959e+07 | 3.52362e+07  | 6.06321e+07\n",
       "outputs-concorde | 107.out         | 6.44545e+06 | 6.61577e+06  | 1.30612e+07\n",
       "outputs-concorde | 108.out         | 6936.75     | 2278.12      | 9214.87\n",
       "outputs-concorde | 109.out         | 5922.62     | 1758.54      | 7681.17\n",
       "outputs-concorde | 11.out          | 105.88      | 102.89       | 208.77\n",
       "... (688 rows omitted)"
      ]
     },
     "execution_count": 24,
     "metadata": {},
     "output_type": "execute_result"
    }
   ],
   "source": [
    "costs_2"
   ]
  },
  {
   "cell_type": "code",
   "execution_count": 25,
   "metadata": {},
   "outputs": [
    {
     "data": {
      "text/html": [
       "<table border=\"1\" class=\"dataframe\">\n",
       "    <thead>\n",
       "        <tr>\n",
       "            <th>output_filename</th> <th>output_dir</th> <th>travel_cost</th> <th>conquer_cost</th> <th>cost</th> <th>output_dir_2</th> <th>travel_cost_2</th> <th>conquer_cost_2</th> <th>cost_2</th>\n",
       "        </tr>\n",
       "    </thead>\n",
       "    <tbody>\n",
       "        <tr>\n",
       "            <td>10.out         </td> <td>outputs   </td> <td>250.8      </td> <td>281.31      </td> <td>532.11     </td> <td>outputs-concorde</td> <td>175.69       </td> <td>281.31        </td> <td>457        </td>\n",
       "        </tr>\n",
       "    </tbody>\n",
       "        <tr>\n",
       "            <td>105.out        </td> <td>outputs   </td> <td>1.78909e+07</td> <td>1.80057e+07 </td> <td>3.58966e+07</td> <td>outputs-concorde</td> <td>1.16009e+07  </td> <td>1.80057e+07   </td> <td>2.96065e+07</td>\n",
       "        </tr>\n",
       "    </tbody>\n",
       "        <tr>\n",
       "            <td>106.out        </td> <td>outputs   </td> <td>3.59132e+07</td> <td>3.52362e+07 </td> <td>7.11494e+07</td> <td>outputs-concorde</td> <td>2.53959e+07  </td> <td>3.52362e+07   </td> <td>6.06321e+07</td>\n",
       "        </tr>\n",
       "    </tbody>\n",
       "        <tr>\n",
       "            <td>107.out        </td> <td>outputs   </td> <td>9.28911e+06</td> <td>6.61577e+06 </td> <td>1.59049e+07</td> <td>outputs-concorde</td> <td>6.44545e+06  </td> <td>6.61577e+06   </td> <td>1.30612e+07</td>\n",
       "        </tr>\n",
       "    </tbody>\n",
       "        <tr>\n",
       "            <td>108.out        </td> <td>outputs   </td> <td>10380      </td> <td>2278.12     </td> <td>12658.1    </td> <td>outputs-concorde</td> <td>6936.75      </td> <td>2278.12       </td> <td>9214.87    </td>\n",
       "        </tr>\n",
       "    </tbody>\n",
       "        <tr>\n",
       "            <td>109.out        </td> <td>outputs   </td> <td>9850.71    </td> <td>1758.54     </td> <td>11609.3    </td> <td>outputs-concorde</td> <td>5922.62      </td> <td>1758.54       </td> <td>7681.17    </td>\n",
       "        </tr>\n",
       "    </tbody>\n",
       "        <tr>\n",
       "            <td>11.out         </td> <td>outputs   </td> <td>141.04     </td> <td>102.89      </td> <td>243.93     </td> <td>outputs-concorde</td> <td>105.88       </td> <td>102.89        </td> <td>208.77     </td>\n",
       "        </tr>\n",
       "    </tbody>\n",
       "        <tr>\n",
       "            <td>110.out        </td> <td>outputs   </td> <td>8089.35    </td> <td>1990.7      </td> <td>10080      </td> <td>outputs-concorde</td> <td>4931.54      </td> <td>1990.7        </td> <td>6922.23    </td>\n",
       "        </tr>\n",
       "    </tbody>\n",
       "        <tr>\n",
       "            <td>111.out        </td> <td>outputs   </td> <td>1372       </td> <td>518         </td> <td>1890       </td> <td>outputs-concorde</td> <td>1046         </td> <td>518           </td> <td>1564       </td>\n",
       "        </tr>\n",
       "    </tbody>\n",
       "        <tr>\n",
       "            <td>112.out        </td> <td>outputs   </td> <td>2764       </td> <td>1050        </td> <td>3814       </td> <td>outputs-concorde</td> <td>2112         </td> <td>1050          </td> <td>3162       </td>\n",
       "        </tr>\n",
       "    </tbody>\n",
       "</table>\n",
       "<p>... (526 rows omitted)</p>"
      ],
      "text/plain": [
       "output_filename | output_dir | travel_cost | conquer_cost | cost        | output_dir_2     | travel_cost_2 | conquer_cost_2 | cost_2\n",
       "10.out          | outputs    | 250.8       | 281.31       | 532.11      | outputs-concorde | 175.69        | 281.31         | 457\n",
       "105.out         | outputs    | 1.78909e+07 | 1.80057e+07  | 3.58966e+07 | outputs-concorde | 1.16009e+07   | 1.80057e+07    | 2.96065e+07\n",
       "106.out         | outputs    | 3.59132e+07 | 3.52362e+07  | 7.11494e+07 | outputs-concorde | 2.53959e+07   | 3.52362e+07    | 6.06321e+07\n",
       "107.out         | outputs    | 9.28911e+06 | 6.61577e+06  | 1.59049e+07 | outputs-concorde | 6.44545e+06   | 6.61577e+06    | 1.30612e+07\n",
       "108.out         | outputs    | 10380       | 2278.12      | 12658.1     | outputs-concorde | 6936.75       | 2278.12        | 9214.87\n",
       "109.out         | outputs    | 9850.71     | 1758.54      | 11609.3     | outputs-concorde | 5922.62       | 1758.54        | 7681.17\n",
       "11.out          | outputs    | 141.04      | 102.89       | 243.93      | outputs-concorde | 105.88        | 102.89         | 208.77\n",
       "110.out         | outputs    | 8089.35     | 1990.7       | 10080       | outputs-concorde | 4931.54       | 1990.7         | 6922.23\n",
       "111.out         | outputs    | 1372        | 518          | 1890        | outputs-concorde | 1046          | 518            | 1564\n",
       "112.out         | outputs    | 2764        | 1050         | 3814        | outputs-concorde | 2112          | 1050           | 3162\n",
       "... (526 rows omitted)"
      ]
     },
     "execution_count": 25,
     "metadata": {},
     "output_type": "execute_result"
    }
   ],
   "source": [
    "d = costs_1.join('output_filename', costs_2)\n",
    "d.where(\"cost\", are.above, \"cost_2\")\n",
    "# d"
   ]
  },
  {
   "cell_type": "code",
   "execution_count": 27,
   "metadata": {},
   "outputs": [
    {
     "data": {
      "text/html": [
       "<table border=\"1\" class=\"dataframe\">\n",
       "    <thead>\n",
       "        <tr>\n",
       "            <th>output_dir</th> <th>output_filename</th> <th>travel_cost</th> <th>conquer_cost</th> <th>cost</th>\n",
       "        </tr>\n",
       "    </thead>\n",
       "    <tbody>\n",
       "        <tr>\n",
       "            <td>outputs         </td> <td>0.out          </td> <td>16         </td> <td>51          </td> <td>67         </td>\n",
       "        </tr>\n",
       "    </tbody>\n",
       "        <tr>\n",
       "            <td>outputs-concorde</td> <td>0.out          </td> <td>28         </td> <td>40          </td> <td>68         </td>\n",
       "        </tr>\n",
       "    </tbody>\n",
       "        <tr>\n",
       "            <td>outputs         </td> <td>1.out          </td> <td>194        </td> <td>52          </td> <td>246        </td>\n",
       "        </tr>\n",
       "    </tbody>\n",
       "        <tr>\n",
       "            <td>outputs-concorde</td> <td>1.out          </td> <td>194        </td> <td>52          </td> <td>246        </td>\n",
       "        </tr>\n",
       "    </tbody>\n",
       "        <tr>\n",
       "            <td>outputs         </td> <td>10.out         </td> <td>250.8      </td> <td>281.31      </td> <td>532.11     </td>\n",
       "        </tr>\n",
       "    </tbody>\n",
       "        <tr>\n",
       "            <td>outputs-concorde</td> <td>10.out         </td> <td>175.69     </td> <td>281.31      </td> <td>457        </td>\n",
       "        </tr>\n",
       "    </tbody>\n",
       "        <tr>\n",
       "            <td>outputs         </td> <td>100.out        </td> <td>403864     </td> <td>27704       </td> <td>431568     </td>\n",
       "        </tr>\n",
       "    </tbody>\n",
       "        <tr>\n",
       "            <td>outputs-concorde</td> <td>100.out        </td> <td>403864     </td> <td>27704       </td> <td>431568     </td>\n",
       "        </tr>\n",
       "    </tbody>\n",
       "        <tr>\n",
       "            <td>outputs         </td> <td>101.out        </td> <td>324        </td> <td>1           </td> <td>325        </td>\n",
       "        </tr>\n",
       "    </tbody>\n",
       "        <tr>\n",
       "            <td>outputs         </td> <td>105.out        </td> <td>1.78909e+07</td> <td>1.80057e+07 </td> <td>3.58966e+07</td>\n",
       "        </tr>\n",
       "    </tbody>\n",
       "</table>\n",
       "<p>... (1419 rows omitted)</p>"
      ],
      "text/plain": [
       "output_dir       | output_filename | travel_cost | conquer_cost | cost\n",
       "outputs          | 0.out           | 16          | 51           | 67\n",
       "outputs-concorde | 0.out           | 28          | 40           | 68\n",
       "outputs          | 1.out           | 194         | 52           | 246\n",
       "outputs-concorde | 1.out           | 194         | 52           | 246\n",
       "outputs          | 10.out          | 250.8       | 281.31       | 532.11\n",
       "outputs-concorde | 10.out          | 175.69      | 281.31       | 457\n",
       "outputs          | 100.out         | 403864      | 27704        | 431568\n",
       "outputs-concorde | 100.out         | 403864      | 27704        | 431568\n",
       "outputs          | 101.out         | 324         | 1            | 325\n",
       "outputs          | 105.out         | 1.78909e+07 | 1.80057e+07  | 3.58966e+07\n",
       "... (1419 rows omitted)"
      ]
     },
     "execution_count": 27,
     "metadata": {},
     "output_type": "execute_result"
    }
   ],
   "source": [
    "appended = costs_1.copy().append(costs_2).sort('output_filename')\n",
    "appended"
   ]
  },
  {
   "cell_type": "code",
   "execution_count": 28,
   "metadata": {},
   "outputs": [
    {
     "data": {
      "text/html": [
       "<table border=\"1\" class=\"dataframe\">\n",
       "    <thead>\n",
       "        <tr>\n",
       "            <th>output_filename</th> <th>cost min</th>\n",
       "        </tr>\n",
       "    </thead>\n",
       "    <tbody>\n",
       "        <tr>\n",
       "            <td>0.out          </td> <td>67         </td>\n",
       "        </tr>\n",
       "    </tbody>\n",
       "        <tr>\n",
       "            <td>1.out          </td> <td>246        </td>\n",
       "        </tr>\n",
       "    </tbody>\n",
       "        <tr>\n",
       "            <td>10.out         </td> <td>457        </td>\n",
       "        </tr>\n",
       "    </tbody>\n",
       "        <tr>\n",
       "            <td>100.out        </td> <td>431568     </td>\n",
       "        </tr>\n",
       "    </tbody>\n",
       "        <tr>\n",
       "            <td>101.out        </td> <td>325        </td>\n",
       "        </tr>\n",
       "    </tbody>\n",
       "        <tr>\n",
       "            <td>105.out        </td> <td>2.96065e+07</td>\n",
       "        </tr>\n",
       "    </tbody>\n",
       "        <tr>\n",
       "            <td>106.out        </td> <td>6.06321e+07</td>\n",
       "        </tr>\n",
       "    </tbody>\n",
       "        <tr>\n",
       "            <td>107.out        </td> <td>1.30612e+07</td>\n",
       "        </tr>\n",
       "    </tbody>\n",
       "        <tr>\n",
       "            <td>108.out        </td> <td>9214.87    </td>\n",
       "        </tr>\n",
       "    </tbody>\n",
       "        <tr>\n",
       "            <td>109.out        </td> <td>7681.17    </td>\n",
       "        </tr>\n",
       "    </tbody>\n",
       "</table>\n",
       "<p>... (721 rows omitted)</p>"
      ],
      "text/plain": [
       "output_filename | cost min\n",
       "0.out           | 67\n",
       "1.out           | 246\n",
       "10.out          | 457\n",
       "100.out         | 431568\n",
       "101.out         | 325\n",
       "105.out         | 2.96065e+07\n",
       "106.out         | 6.06321e+07\n",
       "107.out         | 1.30612e+07\n",
       "108.out         | 9214.87\n",
       "109.out         | 7681.17\n",
       "... (721 rows omitted)"
      ]
     },
     "execution_count": 28,
     "metadata": {},
     "output_type": "execute_result"
    }
   ],
   "source": [
    "with_min = appended.group('output_filename', min).select(['output_filename', 'cost min'])\n",
    "with_min"
   ]
  },
  {
   "cell_type": "code",
   "execution_count": 29,
   "metadata": {},
   "outputs": [
    {
     "data": {
      "text/html": [
       "<table border=\"1\" class=\"dataframe\">\n",
       "    <thead>\n",
       "        <tr>\n",
       "            <th>output_dir</th> <th>output_filename</th> <th>travel_cost</th> <th>conquer_cost</th> <th>cost</th>\n",
       "        </tr>\n",
       "    </thead>\n",
       "    <tbody>\n",
       "        <tr>\n",
       "            <td>outputs         </td> <td>0.out          </td> <td>16         </td> <td>51          </td> <td>67         </td>\n",
       "        </tr>\n",
       "    </tbody>\n",
       "        <tr>\n",
       "            <td>outputs         </td> <td>1.out          </td> <td>194        </td> <td>52          </td> <td>246        </td>\n",
       "        </tr>\n",
       "    </tbody>\n",
       "        <tr>\n",
       "            <td>outputs-concorde</td> <td>1.out          </td> <td>194        </td> <td>52          </td> <td>246        </td>\n",
       "        </tr>\n",
       "    </tbody>\n",
       "        <tr>\n",
       "            <td>outputs-concorde</td> <td>10.out         </td> <td>175.69     </td> <td>281.31      </td> <td>457        </td>\n",
       "        </tr>\n",
       "    </tbody>\n",
       "        <tr>\n",
       "            <td>outputs         </td> <td>100.out        </td> <td>403864     </td> <td>27704       </td> <td>431568     </td>\n",
       "        </tr>\n",
       "    </tbody>\n",
       "        <tr>\n",
       "            <td>outputs-concorde</td> <td>100.out        </td> <td>403864     </td> <td>27704       </td> <td>431568     </td>\n",
       "        </tr>\n",
       "    </tbody>\n",
       "        <tr>\n",
       "            <td>outputs         </td> <td>101.out        </td> <td>324        </td> <td>1           </td> <td>325        </td>\n",
       "        </tr>\n",
       "    </tbody>\n",
       "        <tr>\n",
       "            <td>outputs-concorde</td> <td>105.out        </td> <td>1.16009e+07</td> <td>1.80057e+07 </td> <td>2.96065e+07</td>\n",
       "        </tr>\n",
       "    </tbody>\n",
       "        <tr>\n",
       "            <td>outputs-concorde</td> <td>106.out        </td> <td>2.53959e+07</td> <td>3.52362e+07 </td> <td>6.06321e+07</td>\n",
       "        </tr>\n",
       "    </tbody>\n",
       "        <tr>\n",
       "            <td>outputs-concorde</td> <td>107.out        </td> <td>6.44545e+06</td> <td>6.61577e+06 </td> <td>1.30612e+07</td>\n",
       "        </tr>\n",
       "    </tbody>\n",
       "</table>\n",
       "<p>... (781 rows omitted)</p>"
      ],
      "text/plain": [
       "output_dir       | output_filename | travel_cost | conquer_cost | cost\n",
       "outputs          | 0.out           | 16          | 51           | 67\n",
       "outputs          | 1.out           | 194         | 52           | 246\n",
       "outputs-concorde | 1.out           | 194         | 52           | 246\n",
       "outputs-concorde | 10.out          | 175.69      | 281.31       | 457\n",
       "outputs          | 100.out         | 403864      | 27704        | 431568\n",
       "outputs-concorde | 100.out         | 403864      | 27704        | 431568\n",
       "outputs          | 101.out         | 324         | 1            | 325\n",
       "outputs-concorde | 105.out         | 1.16009e+07 | 1.80057e+07  | 2.96065e+07\n",
       "outputs-concorde | 106.out         | 2.53959e+07 | 3.52362e+07  | 6.06321e+07\n",
       "outputs-concorde | 107.out         | 6.44545e+06 | 6.61577e+06  | 1.30612e+07\n",
       "... (781 rows omitted)"
      ]
     },
     "execution_count": 29,
     "metadata": {},
     "output_type": "execute_result"
    }
   ],
   "source": [
    "min_output_selected = appended.join('output_filename', with_min).where('cost', are.equal_to, 'cost min').drop('cost min')\n",
    "min_output_selected.move_to_start('output_dir')\n",
    "min_output_selected"
   ]
  },
  {
   "cell_type": "code",
   "execution_count": 30,
   "metadata": {},
   "outputs": [
    {
     "data": {
      "text/html": [
       "<table border=\"1\" class=\"dataframe\">\n",
       "    <thead>\n",
       "        <tr>\n",
       "            <th>output_dir</th> <th>output_filename</th> <th>travel_cost</th> <th>conquer_cost</th> <th>cost</th>\n",
       "        </tr>\n",
       "    </thead>\n",
       "    <tbody>\n",
       "        <tr>\n",
       "            <td>outputs         </td> <td>0.out          </td> <td>16         </td> <td>51          </td> <td>67         </td>\n",
       "        </tr>\n",
       "    </tbody>\n",
       "        <tr>\n",
       "            <td>outputs         </td> <td>1.out          </td> <td>194        </td> <td>52          </td> <td>246        </td>\n",
       "        </tr>\n",
       "    </tbody>\n",
       "        <tr>\n",
       "            <td>outputs-concorde</td> <td>10.out         </td> <td>175.69     </td> <td>281.31      </td> <td>457        </td>\n",
       "        </tr>\n",
       "    </tbody>\n",
       "        <tr>\n",
       "            <td>outputs         </td> <td>100.out        </td> <td>403864     </td> <td>27704       </td> <td>431568     </td>\n",
       "        </tr>\n",
       "    </tbody>\n",
       "        <tr>\n",
       "            <td>outputs         </td> <td>101.out        </td> <td>324        </td> <td>1           </td> <td>325        </td>\n",
       "        </tr>\n",
       "    </tbody>\n",
       "        <tr>\n",
       "            <td>outputs-concorde</td> <td>105.out        </td> <td>1.16009e+07</td> <td>1.80057e+07 </td> <td>2.96065e+07</td>\n",
       "        </tr>\n",
       "    </tbody>\n",
       "        <tr>\n",
       "            <td>outputs-concorde</td> <td>106.out        </td> <td>2.53959e+07</td> <td>3.52362e+07 </td> <td>6.06321e+07</td>\n",
       "        </tr>\n",
       "    </tbody>\n",
       "        <tr>\n",
       "            <td>outputs-concorde</td> <td>107.out        </td> <td>6.44545e+06</td> <td>6.61577e+06 </td> <td>1.30612e+07</td>\n",
       "        </tr>\n",
       "    </tbody>\n",
       "        <tr>\n",
       "            <td>outputs-concorde</td> <td>108.out        </td> <td>6936.75    </td> <td>2278.12     </td> <td>9214.87    </td>\n",
       "        </tr>\n",
       "    </tbody>\n",
       "        <tr>\n",
       "            <td>outputs-concorde</td> <td>109.out        </td> <td>5922.62    </td> <td>1758.54     </td> <td>7681.17    </td>\n",
       "        </tr>\n",
       "    </tbody>\n",
       "</table>\n",
       "<p>... (721 rows omitted)</p>"
      ],
      "text/plain": [
       "output_dir       | output_filename | travel_cost | conquer_cost | cost\n",
       "outputs          | 0.out           | 16          | 51           | 67\n",
       "outputs          | 1.out           | 194         | 52           | 246\n",
       "outputs-concorde | 10.out          | 175.69      | 281.31       | 457\n",
       "outputs          | 100.out         | 403864      | 27704        | 431568\n",
       "outputs          | 101.out         | 324         | 1            | 325\n",
       "outputs-concorde | 105.out         | 1.16009e+07 | 1.80057e+07  | 2.96065e+07\n",
       "outputs-concorde | 106.out         | 2.53959e+07 | 3.52362e+07  | 6.06321e+07\n",
       "outputs-concorde | 107.out         | 6.44545e+06 | 6.61577e+06  | 1.30612e+07\n",
       "outputs-concorde | 108.out         | 6936.75     | 2278.12      | 9214.87\n",
       "outputs-concorde | 109.out         | 5922.62     | 1758.54      | 7681.17\n",
       "... (721 rows omitted)"
      ]
     },
     "execution_count": 30,
     "metadata": {},
     "output_type": "execute_result"
    }
   ],
   "source": [
    "# Remove duplicates\n",
    "rows_to_take = []\n",
    "seen = set()\n",
    "for i in range(min_output_selected.num_rows):\n",
    "    filename = min_output_selected.row(i)[1]\n",
    "    if filename not in seen:\n",
    "        seen.add(filename)\n",
    "        rows_to_take.append(i)\n",
    "min_output_selected = min_output_selected.take(rows_to_take)\n",
    "min_output_selected"
   ]
  },
  {
   "cell_type": "code",
   "execution_count": 31,
   "metadata": {},
   "outputs": [
    {
     "name": "stdout",
     "output_type": "stream",
     "text": [
      "1944953182510.4285\n"
     ]
    }
   ],
   "source": [
    "# To implement: select files from min_out_selected and copy into a new folder\n",
    "new_outputs_name = \"outputs-concorde-2\"\n",
    "\n",
    "if not os.path.exists(new_outputs_name):\n",
    "    os.makedirs(new_outputs_name)\n",
    "\n",
    "for i in range(min_output_selected.num_rows):\n",
    "    row = min_output_selected.row(i)\n",
    "    dirname = row[0]\n",
    "    filename = row[1]\n",
    "    subprocess.run(['cp', f'{dirname}/{filename}', f'{new_outputs_name}/{filename}'])\n",
    "\n",
    "print(total_cost(min_output_selected))\n",
    "# min_output_selected.to_csv(f'costs/{new_outputs_name}.csv')"
   ]
  },
  {
   "cell_type": "code",
   "execution_count": 32,
   "metadata": {},
   "outputs": [
    {
     "data": {
      "text/plain": [
       "452411962267.6648"
      ]
     },
     "execution_count": 32,
     "metadata": {},
     "output_type": "execute_result"
    }
   ],
   "source": [
    "2397365144778.0933 - 1944953182510.4285"
   ]
  },
  {
   "cell_type": "code",
   "execution_count": null,
   "metadata": {},
   "outputs": [],
   "source": []
  }
 ],
 "metadata": {
  "kernelspec": {
   "display_name": "Python 3",
   "language": "python",
   "name": "python3"
  },
  "language_info": {
   "codemirror_mode": {
    "name": "ipython",
    "version": 3
   },
   "file_extension": ".py",
   "mimetype": "text/x-python",
   "name": "python",
   "nbconvert_exporter": "python",
   "pygments_lexer": "ipython3",
   "version": "3.6.5"
  }
 },
 "nbformat": 4,
 "nbformat_minor": 2
}
